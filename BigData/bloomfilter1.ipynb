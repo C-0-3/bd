{
 "cells": [
  {
   "cell_type": "code",
   "execution_count": 14,
   "id": "f62777ef-06b1-424c-bbd4-2b20d0740b14",
   "metadata": {},
   "outputs": [
    {
     "name": "stdout",
     "output_type": "stream",
     "text": [
      "   Number  Hash1  Hash2\n",
      "0      11     12      1\n",
      "1       7      8      6\n",
      "2      25      0      3\n",
      "3      23     11     12\n",
      "4      16      4     11\n",
      "\n",
      "Bloom filter values: [1, 1, 0, 1, 1, 0, 1, 0, 1, 0, 0, 1, 1]\n",
      "\n",
      "Check for new number 6.\n",
      "Result: 6 is definitely not in the set\n",
      "Hash values of new number are hash1 = 7 and hash2 = 4.\n"
     ]
    }
   ],
   "source": [
    "import pandas as pd, random\n",
    "\n",
    "bloom_filter = [0] * 13\n",
    "h1 = lambda x: (x + 1) % 13\n",
    "h2 = lambda x: (2 * x + 5) % 13\n",
    "\n",
    "nums = random.sample(range(1, 30), 5)  # 5 random unique numbers between 1 and 29\n",
    "for n in nums:\n",
    "    bloom_filter[h1(n)] = 1\n",
    "    bloom_filter[h2(n)] = 1\n",
    "\n",
    "data = {'Number': nums, 'Hash1': [h1(x) for x in nums], 'Hash2': [h2(x) for x in nums]}\n",
    "print(pd.DataFrame(data))\n",
    "print(\"\\nBloom filter values:\", bloom_filter)\n",
    "\n",
    "chk = random.randint(1, 30)\n",
    "c1, c2 = h1(chk), h2(chk)\n",
    "print(f\"\\nCheck for new number {chk}.\")\n",
    "if bloom_filter[c1] and bloom_filter[c2]:\n",
    "    print(f\"Result: {chk} might be in the set (Possible False Positive)\")\n",
    "else:\n",
    "    print(f\"Result: {chk} is definitely not in the set\")\n",
    "    print(f\"Hash values of new number are hash1 = {c1} and hash2 = {c2}.\")"
   ]
  },
  {
   "cell_type": "code",
   "execution_count": null,
   "id": "c6577db6-2221-4452-b4b1-0ecf83c98f1f",
   "metadata": {},
   "outputs": [],
   "source": []
  }
 ],
 "metadata": {
  "kernelspec": {
   "display_name": "Python [conda env:base] *",
   "language": "python",
   "name": "conda-base-py"
  },
  "language_info": {
   "codemirror_mode": {
    "name": "ipython",
    "version": 3
   },
   "file_extension": ".py",
   "mimetype": "text/x-python",
   "name": "python",
   "nbconvert_exporter": "python",
   "pygments_lexer": "ipython3",
   "version": "3.12.7"
  }
 },
 "nbformat": 4,
 "nbformat_minor": 5
}
